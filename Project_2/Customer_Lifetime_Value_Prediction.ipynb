{
  "nbformat": 4,
  "nbformat_minor": 0,
  "metadata": {
    "colab": {
      "provenance": []
    },
    "kernelspec": {
      "name": "python3",
      "display_name": "Python 3"
    },
    "language_info": {
      "name": "python"
    }
  },
  "cells": [
    {
      "cell_type": "markdown",
      "source": [
        "### **Importing the Libraries**"
      ],
      "metadata": {
        "id": "lx4wD4kCUPHk"
      }
    },
    {
      "cell_type": "code",
      "execution_count": null,
      "metadata": {
        "id": "kyNg-3NfpMMA"
      },
      "outputs": [],
      "source": [
        "import pandas as pd\n",
        "import numpy as np\n",
        "import matplotlib.pyplot as plt\n",
        "import seaborn as sns"
      ]
    },
    {
      "cell_type": "code",
      "source": [
        "from sklearn.model_selection import train_test_split\n",
        "from sklearn.linear_model import LinearRegression\n",
        "from sklearn.metrics import mean_squared_error, r2_score"
      ],
      "metadata": {
        "id": "x6A7jzoCppTH"
      },
      "execution_count": null,
      "outputs": []
    },
    {
      "cell_type": "markdown",
      "source": [
        "### **Loading the Dataset**"
      ],
      "metadata": {
        "id": "DnUY2BylUX_H"
      }
    },
    {
      "cell_type": "code",
      "source": [
        "file_path = '/content/customer_segmentation.csv'\n",
        "data = pd.read_csv(file_path)"
      ],
      "metadata": {
        "id": "_YX7c5koQRCX"
      },
      "execution_count": null,
      "outputs": []
    },
    {
      "cell_type": "code",
      "source": [
        "print(data.head())"
      ],
      "metadata": {
        "colab": {
          "base_uri": "https://localhost:8080/"
        },
        "id": "-repDymfQovY",
        "outputId": "0f7e6751-3d6b-4a94-a73b-915609071e07"
      },
      "execution_count": null,
      "outputs": [
        {
          "output_type": "stream",
          "name": "stdout",
          "text": [
            "  InvoiceNo StockCode                          Description Quantity  \\\n",
            "0    536365    85123A   WHITE HANGING HEART T-LIGHT HOLDER        6   \n",
            "1    536365     71053                  WHITE METAL LANTERN        6   \n",
            "2    536365    84406B       CREAM CUPID HEARTS COAT HANGER        8   \n",
            "3    536365    84029G  KNITTED UNION FLAG HOT WATER BOTTLE        6   \n",
            "4    536365    84029E       RED WOOLLY HOTTIE WHITE HEART.        6   \n",
            "\n",
            "      InvoiceDate  UnitPrice  CustomerID         Country  \n",
            "0  12/1/2010 8:26       2.55     17850.0  United Kingdom  \n",
            "1  12/1/2010 8:26       3.39     17850.0  United Kingdom  \n",
            "2  12/1/2010 8:26       2.75     17850.0  United Kingdom  \n",
            "3  12/1/2010 8:26       3.39     17850.0  United Kingdom  \n",
            "4  12/1/2010 8:26       3.39     17850.0  United Kingdom  \n"
          ]
        }
      ]
    },
    {
      "cell_type": "markdown",
      "source": [
        "### **Data Preprocessing**"
      ],
      "metadata": {
        "id": "UKvVyxndUjTs"
      }
    },
    {
      "cell_type": "code",
      "source": [
        "# Convert 'InvoiceDate' to datetime format\n",
        "data['InvoiceDate'] = pd.to_datetime(data['InvoiceDate'])"
      ],
      "metadata": {
        "id": "9TCwcXUKQrtP"
      },
      "execution_count": null,
      "outputs": []
    },
    {
      "cell_type": "code",
      "source": [
        "# Convert 'Quantity' and 'UnitPrice' to numeric types\n",
        "# Debugging: Print unique values before conversion\n",
        "print(\"Unique values in 'Quantity' before conversion:\", data['Quantity'].unique())\n",
        "print(\"Unique values in 'UnitPrice' before conversion:\", data['UnitPrice'].unique())\n",
        "\n",
        "data['Quantity'] = pd.to_numeric(data['Quantity'], errors='coerce')\n",
        "data['UnitPrice'] = pd.to_numeric(data['UnitPrice'], errors='coerce')"
      ],
      "metadata": {
        "colab": {
          "base_uri": "https://localhost:8080/"
        },
        "id": "PRW1CYdYSA1z",
        "outputId": "43319bae-2892-4643-9712-b4a72c81a784"
      },
      "execution_count": null,
      "outputs": [
        {
          "output_type": "stream",
          "name": "stdout",
          "text": [
            "Unique values in 'Quantity' before conversion: [    6     8     2    32     3     4    24    12    48    18    20    36\n",
            "    80    64    10   120    96    23     5     1    -1    50    40   100\n",
            "   192   432   144   288   -12   -24    16     9   128    25    30    28\n",
            "     7    72   200   600   480    -6    14    -2    -4    -5    -7    -3\n",
            "    11    70   252    60   216   384    27   108    52 -9360    75   270\n",
            "    42   240    90   320    17  1824   204    69   -36  -192  -144   160\n",
            "  2880  1400    19    39   -48   -50    56    13  1440    -8    15   720\n",
            "   -20   156   324    41   -10    81   864   114   400   -35   -18    21\n",
            "    -9   250    33   300   176   768   576    26    88   -96   -13    43\n",
            "   700   900   500   800  1200   150    35  -102   -25   360    84  1296\n",
            "  2160]\n",
            "Unique values in 'UnitPrice' before conversion: [2.55000e+00 3.39000e+00 2.75000e+00 7.65000e+00 4.25000e+00 1.85000e+00\n",
            " 1.69000e+00 2.10000e+00 3.75000e+00 1.65000e+00 4.95000e+00 9.95000e+00\n",
            " 5.95000e+00 7.95000e+00 8.50000e-01 6.50000e-01 1.25000e+00 2.95000e+00\n",
            " 1.95000e+00 4.20000e-01 1.80000e+01 1.06000e+00 6.95000e+00 1.09500e+01\n",
            " 3.45000e+00 5.50000e-01 3.80000e-01 1.45000e+00 3.95000e+00 6.75000e+00\n",
            " 2.75000e+01 1.49500e+01 1.69500e+01 4.65000e+00 6.45000e+00 1.27500e+01\n",
            " 1.99500e+01 8.50000e+00 3.82000e+00 3.37000e+00 5.45000e+00 6.35000e+00\n",
            " 7.20000e-01 6.40000e-01 1.00000e-01 3.20000e-01 1.48000e+00 2.90000e-01\n",
            " 1.65000e+02 3.57500e+01 3.35000e+00 1.06500e+01 1.50000e+01 9.50000e-01\n",
            " 2.10000e-01 1.20000e-01 2.40000e-01 3.25000e+00 1.49000e+00 2.25000e+00\n",
            " 1.55000e+00 1.89500e+01 8.95000e+00 5.00000e+01 2.99500e+01 4.60000e+00\n",
            " 1.05000e+00 5.49000e+00 1.90000e-01 1.07500e+01 7.99500e+01 1.19500e+01\n",
            " 3.00000e-02 7.50000e-01 3.60000e-01 3.40000e-01 1.60000e-01 1.88000e+00\n",
            " 7.25000e+00 1.80000e-01 2.95000e+02 4.00000e+01 2.80000e+01 4.29500e+01\n",
            " 2.19500e+01 2.69500e+01 2.92900e+01 1.40000e-01 0.00000e+00 5.55000e+00\n",
            " 4.99500e+01 1.00000e+00 3.49000e+00 1.59500e+01 3.90000e-01 7.90000e-01\n",
            " 8.25000e+00 1.25000e+02 8.00000e-02 2.08000e+00 5.75000e+00 8.30000e-01\n",
            " 4.15000e+00 2.89000e+00 3.81000e+00 2.50000e-01 1.93000e+00 8.87000e+00\n",
            " 7.13000e+00 3.40000e+00 1.95000e+02 7.90000e+00 2.49500e+01 9.87000e+00\n",
            " 7.50000e+00 7.00000e-01 4.50000e+00 1.72000e+00 2.84000e+00 4.40000e+00\n",
            " 8.15000e+00 1.68717e+03 7.06000e+00 1.00000e+01 5.00000e-01 2.00000e+00\n",
            " 3.29500e+01 5.30000e-01 1.45000e+02 3.99500e+01 4.00000e-01 2.50000e+00\n",
            " 4.00000e+00 9.10000e-01 3.59500e+01 4.50000e-01 6.70000e-01 8.49000e+00]\n"
          ]
        }
      ]
    },
    {
      "cell_type": "code",
      "source": [
        "# Debugging: Print unique values after conversion\n",
        "print(\"Unique values in 'Quantity' after conversion:\", data['Quantity'].unique())\n",
        "print(\"Unique values in 'UnitPrice' after conversion:\", data['UnitPrice'].unique())"
      ],
      "metadata": {
        "colab": {
          "base_uri": "https://localhost:8080/"
        },
        "id": "v4uUP434TCEh",
        "outputId": "306080a9-a849-4842-835e-0767a520e592"
      },
      "execution_count": null,
      "outputs": [
        {
          "output_type": "stream",
          "name": "stdout",
          "text": [
            "Unique values in 'Quantity' after conversion: [    6     8     2    32     3     4    24    12    48    18    20    36\n",
            "    80    64    10   120    96    23     5     1    -1    50    40   100\n",
            "   192   432   144   288   -12   -24    16     9   128    25    30    28\n",
            "     7    72   200   600   480    -6    14    -2    -4    -5    -7    -3\n",
            "    11    70   252    60   216   384    27   108    52 -9360    75   270\n",
            "    42   240    90   320    17  1824   204    69   -36  -192  -144   160\n",
            "  2880  1400    19    39   -48   -50    56    13  1440    -8    15   720\n",
            "   -20   156   324    41   -10    81   864   114   400   -35   -18    21\n",
            "    -9   250    33   300   176   768   576    26    88   -96   -13    43\n",
            "   700   900   500   800  1200   150    35  -102   -25   360    84  1296\n",
            "  2160]\n",
            "Unique values in 'UnitPrice' after conversion: [2.55000e+00 3.39000e+00 2.75000e+00 7.65000e+00 4.25000e+00 1.85000e+00\n",
            " 1.69000e+00 2.10000e+00 3.75000e+00 1.65000e+00 4.95000e+00 9.95000e+00\n",
            " 5.95000e+00 7.95000e+00 8.50000e-01 6.50000e-01 1.25000e+00 2.95000e+00\n",
            " 1.95000e+00 4.20000e-01 1.80000e+01 1.06000e+00 6.95000e+00 1.09500e+01\n",
            " 3.45000e+00 5.50000e-01 3.80000e-01 1.45000e+00 3.95000e+00 6.75000e+00\n",
            " 2.75000e+01 1.49500e+01 1.69500e+01 4.65000e+00 6.45000e+00 1.27500e+01\n",
            " 1.99500e+01 8.50000e+00 3.82000e+00 3.37000e+00 5.45000e+00 6.35000e+00\n",
            " 7.20000e-01 6.40000e-01 1.00000e-01 3.20000e-01 1.48000e+00 2.90000e-01\n",
            " 1.65000e+02 3.57500e+01 3.35000e+00 1.06500e+01 1.50000e+01 9.50000e-01\n",
            " 2.10000e-01 1.20000e-01 2.40000e-01 3.25000e+00 1.49000e+00 2.25000e+00\n",
            " 1.55000e+00 1.89500e+01 8.95000e+00 5.00000e+01 2.99500e+01 4.60000e+00\n",
            " 1.05000e+00 5.49000e+00 1.90000e-01 1.07500e+01 7.99500e+01 1.19500e+01\n",
            " 3.00000e-02 7.50000e-01 3.60000e-01 3.40000e-01 1.60000e-01 1.88000e+00\n",
            " 7.25000e+00 1.80000e-01 2.95000e+02 4.00000e+01 2.80000e+01 4.29500e+01\n",
            " 2.19500e+01 2.69500e+01 2.92900e+01 1.40000e-01 0.00000e+00 5.55000e+00\n",
            " 4.99500e+01 1.00000e+00 3.49000e+00 1.59500e+01 3.90000e-01 7.90000e-01\n",
            " 8.25000e+00 1.25000e+02 8.00000e-02 2.08000e+00 5.75000e+00 8.30000e-01\n",
            " 4.15000e+00 2.89000e+00 3.81000e+00 2.50000e-01 1.93000e+00 8.87000e+00\n",
            " 7.13000e+00 3.40000e+00 1.95000e+02 7.90000e+00 2.49500e+01 9.87000e+00\n",
            " 7.50000e+00 7.00000e-01 4.50000e+00 1.72000e+00 2.84000e+00 4.40000e+00\n",
            " 8.15000e+00 1.68717e+03 7.06000e+00 1.00000e+01 5.00000e-01 2.00000e+00\n",
            " 3.29500e+01 5.30000e-01 1.45000e+02 3.99500e+01 4.00000e-01 2.50000e+00\n",
            " 4.00000e+00 9.10000e-01 3.59500e+01 4.50000e-01 6.70000e-01 8.49000e+00]\n"
          ]
        }
      ]
    },
    {
      "cell_type": "code",
      "source": [
        "# Remove rows with non-numeric 'Quantity' or 'UnitPrice'\n",
        "data = data.dropna(subset=['Quantity', 'UnitPrice'])"
      ],
      "metadata": {
        "id": "2fZXAa29TMRh"
      },
      "execution_count": null,
      "outputs": []
    },
    {
      "cell_type": "code",
      "source": [
        "# Ensure 'CustomerID' is treated as a categorical variable\n",
        "data['CustomerID'] = data['CustomerID'].astype(str)"
      ],
      "metadata": {
        "id": "RPNowxZLTN-2"
      },
      "execution_count": null,
      "outputs": []
    },
    {
      "cell_type": "code",
      "source": [
        "# Check for missing values\n",
        "print(data.isnull().sum())"
      ],
      "metadata": {
        "colab": {
          "base_uri": "https://localhost:8080/"
        },
        "id": "zlD00np9Qvrh",
        "outputId": "9eecc41b-19bd-4901-d3ea-569e702b49b3"
      },
      "execution_count": null,
      "outputs": [
        {
          "output_type": "stream",
          "name": "stdout",
          "text": [
            "InvoiceNo      0\n",
            "StockCode      0\n",
            "Description    0\n",
            "Quantity       0\n",
            "InvoiceDate    0\n",
            "UnitPrice      0\n",
            "CustomerID     0\n",
            "Country        0\n",
            "TotalPrice     0\n",
            "Recency        0\n",
            "dtype: int64\n"
          ]
        }
      ]
    },
    {
      "cell_type": "markdown",
      "source": [
        "### **Handling Missing Values**"
      ],
      "metadata": {
        "id": "vhxz377wUsOV"
      }
    },
    {
      "cell_type": "code",
      "source": [
        "# For simplicity, let's drop rows with missing CustomerID\n",
        "data = data.dropna(subset=['CustomerID'])"
      ],
      "metadata": {
        "id": "wzBhjoZ5Qxo1"
      },
      "execution_count": null,
      "outputs": []
    },
    {
      "cell_type": "code",
      "source": [
        "# Calculate the total price per row\n",
        "data['TotalPrice'] = data['Quantity'] * data['UnitPrice']"
      ],
      "metadata": {
        "id": "4VUQ7VXMQ1M4"
      },
      "execution_count": null,
      "outputs": []
    },
    {
      "cell_type": "markdown",
      "source": [
        "### **Calculate Recency, Frequency, and Monetary (RFM) values for each customer**"
      ],
      "metadata": {
        "id": "yOGth_qhUz5u"
      }
    },
    {
      "cell_type": "code",
      "source": [
        "# Recency: days since the last purchase\n",
        "data['Recency'] = (data['InvoiceDate'].max() - data['InvoiceDate']).dt.days\n",
        "# Frequency: number of purchases\n",
        "frequency = data.groupby('CustomerID')['InvoiceNo'].nunique()\n",
        "# Monetary: total spent\n",
        "monetary = data.groupby('CustomerID')['TotalPrice'].sum()\n",
        "\n",
        "# Combine RFM values into a single DataFrame\n",
        "rfm = pd.DataFrame({'Recency': data.groupby('CustomerID')['Recency'].min(),\n",
        "                    'Frequency': frequency,\n",
        "                    'Monetary': monetary})"
      ],
      "metadata": {
        "id": "qlkdkcAZQ30p"
      },
      "execution_count": null,
      "outputs": []
    },
    {
      "cell_type": "code",
      "source": [
        "# Display the RFM DataFrame\n",
        "print(rfm.head())"
      ],
      "metadata": {
        "colab": {
          "base_uri": "https://localhost:8080/"
        },
        "id": "TL8YqTvtTjOE",
        "outputId": "9372ad40-04b3-415a-ff57-aba77f0437ff"
      },
      "execution_count": null,
      "outputs": [
        {
          "output_type": "stream",
          "name": "stdout",
          "text": [
            "            Recency  Frequency  Monetary\n",
            "CustomerID                              \n",
            "12352.0           2          1    120.33\n",
            "12370.0           9          1    938.39\n",
            "12383.0           6          1    357.07\n",
            "12388.0          10          1    210.90\n",
            "12395.0         106          1    346.10\n"
          ]
        }
      ]
    },
    {
      "cell_type": "code",
      "source": [
        "# Split the data into training and testing sets\n",
        "X = rfm[['Recency', 'Frequency', 'Monetary']]\n",
        "y = rfm['Monetary']  # Assuming monetary value as the target for simplicity\n",
        "\n",
        "X_train, X_test, y_train, y_test = train_test_split(X, y, test_size=0.2, random_state=42)"
      ],
      "metadata": {
        "id": "XNDVLK6qTlmt"
      },
      "execution_count": null,
      "outputs": []
    },
    {
      "cell_type": "code",
      "source": [
        "# Train a linear regression model\n",
        "model = LinearRegression()\n",
        "model.fit(X_train, y_train)"
      ],
      "metadata": {
        "colab": {
          "base_uri": "https://localhost:8080/",
          "height": 75
        },
        "id": "4j_BuvYQTm-y",
        "outputId": "232abbeb-43b1-43b6-dbd0-fed37aa279fe"
      },
      "execution_count": null,
      "outputs": [
        {
          "output_type": "execute_result",
          "data": {
            "text/plain": [
              "LinearRegression()"
            ],
            "text/html": [
              "<style>#sk-container-id-1 {color: black;background-color: white;}#sk-container-id-1 pre{padding: 0;}#sk-container-id-1 div.sk-toggleable {background-color: white;}#sk-container-id-1 label.sk-toggleable__label {cursor: pointer;display: block;width: 100%;margin-bottom: 0;padding: 0.3em;box-sizing: border-box;text-align: center;}#sk-container-id-1 label.sk-toggleable__label-arrow:before {content: \"▸\";float: left;margin-right: 0.25em;color: #696969;}#sk-container-id-1 label.sk-toggleable__label-arrow:hover:before {color: black;}#sk-container-id-1 div.sk-estimator:hover label.sk-toggleable__label-arrow:before {color: black;}#sk-container-id-1 div.sk-toggleable__content {max-height: 0;max-width: 0;overflow: hidden;text-align: left;background-color: #f0f8ff;}#sk-container-id-1 div.sk-toggleable__content pre {margin: 0.2em;color: black;border-radius: 0.25em;background-color: #f0f8ff;}#sk-container-id-1 input.sk-toggleable__control:checked~div.sk-toggleable__content {max-height: 200px;max-width: 100%;overflow: auto;}#sk-container-id-1 input.sk-toggleable__control:checked~label.sk-toggleable__label-arrow:before {content: \"▾\";}#sk-container-id-1 div.sk-estimator input.sk-toggleable__control:checked~label.sk-toggleable__label {background-color: #d4ebff;}#sk-container-id-1 div.sk-label input.sk-toggleable__control:checked~label.sk-toggleable__label {background-color: #d4ebff;}#sk-container-id-1 input.sk-hidden--visually {border: 0;clip: rect(1px 1px 1px 1px);clip: rect(1px, 1px, 1px, 1px);height: 1px;margin: -1px;overflow: hidden;padding: 0;position: absolute;width: 1px;}#sk-container-id-1 div.sk-estimator {font-family: monospace;background-color: #f0f8ff;border: 1px dotted black;border-radius: 0.25em;box-sizing: border-box;margin-bottom: 0.5em;}#sk-container-id-1 div.sk-estimator:hover {background-color: #d4ebff;}#sk-container-id-1 div.sk-parallel-item::after {content: \"\";width: 100%;border-bottom: 1px solid gray;flex-grow: 1;}#sk-container-id-1 div.sk-label:hover label.sk-toggleable__label {background-color: #d4ebff;}#sk-container-id-1 div.sk-serial::before {content: \"\";position: absolute;border-left: 1px solid gray;box-sizing: border-box;top: 0;bottom: 0;left: 50%;z-index: 0;}#sk-container-id-1 div.sk-serial {display: flex;flex-direction: column;align-items: center;background-color: white;padding-right: 0.2em;padding-left: 0.2em;position: relative;}#sk-container-id-1 div.sk-item {position: relative;z-index: 1;}#sk-container-id-1 div.sk-parallel {display: flex;align-items: stretch;justify-content: center;background-color: white;position: relative;}#sk-container-id-1 div.sk-item::before, #sk-container-id-1 div.sk-parallel-item::before {content: \"\";position: absolute;border-left: 1px solid gray;box-sizing: border-box;top: 0;bottom: 0;left: 50%;z-index: -1;}#sk-container-id-1 div.sk-parallel-item {display: flex;flex-direction: column;z-index: 1;position: relative;background-color: white;}#sk-container-id-1 div.sk-parallel-item:first-child::after {align-self: flex-end;width: 50%;}#sk-container-id-1 div.sk-parallel-item:last-child::after {align-self: flex-start;width: 50%;}#sk-container-id-1 div.sk-parallel-item:only-child::after {width: 0;}#sk-container-id-1 div.sk-dashed-wrapped {border: 1px dashed gray;margin: 0 0.4em 0.5em 0.4em;box-sizing: border-box;padding-bottom: 0.4em;background-color: white;}#sk-container-id-1 div.sk-label label {font-family: monospace;font-weight: bold;display: inline-block;line-height: 1.2em;}#sk-container-id-1 div.sk-label-container {text-align: center;}#sk-container-id-1 div.sk-container {/* jupyter's `normalize.less` sets `[hidden] { display: none; }` but bootstrap.min.css set `[hidden] { display: none !important; }` so we also need the `!important` here to be able to override the default hidden behavior on the sphinx rendered scikit-learn.org. See: https://github.com/scikit-learn/scikit-learn/issues/21755 */display: inline-block !important;position: relative;}#sk-container-id-1 div.sk-text-repr-fallback {display: none;}</style><div id=\"sk-container-id-1\" class=\"sk-top-container\"><div class=\"sk-text-repr-fallback\"><pre>LinearRegression()</pre><b>In a Jupyter environment, please rerun this cell to show the HTML representation or trust the notebook. <br />On GitHub, the HTML representation is unable to render, please try loading this page with nbviewer.org.</b></div><div class=\"sk-container\" hidden><div class=\"sk-item\"><div class=\"sk-estimator sk-toggleable\"><input class=\"sk-toggleable__control sk-hidden--visually\" id=\"sk-estimator-id-1\" type=\"checkbox\" checked><label for=\"sk-estimator-id-1\" class=\"sk-toggleable__label sk-toggleable__label-arrow\">LinearRegression</label><div class=\"sk-toggleable__content\"><pre>LinearRegression()</pre></div></div></div></div></div>"
            ]
          },
          "metadata": {},
          "execution_count": 28
        }
      ]
    },
    {
      "cell_type": "code",
      "source": [
        "# Make predictions\n",
        "y_pred = model.predict(X_test)"
      ],
      "metadata": {
        "id": "Wg-rBtoETrw9"
      },
      "execution_count": null,
      "outputs": []
    },
    {
      "cell_type": "code",
      "source": [
        "# Evaluate the model\n",
        "mse = mean_squared_error(y_test, y_pred)\n",
        "r2 = r2_score(y_test, y_pred)\n",
        "\n",
        "print(f'Mean Squared Error: {mse}')\n",
        "print(f'R-squared: {r2}')"
      ],
      "metadata": {
        "colab": {
          "base_uri": "https://localhost:8080/"
        },
        "id": "HJUBC1BgTupd",
        "outputId": "e4dfe476-5ddc-4769-d1f9-ee9bd30351aa"
      },
      "execution_count": null,
      "outputs": [
        {
          "output_type": "stream",
          "name": "stdout",
          "text": [
            "Mean Squared Error: 7.098731666843525e-25\n",
            "R-squared: 1.0\n"
          ]
        }
      ]
    },
    {
      "cell_type": "markdown",
      "source": [
        "### ###"
      ],
      "metadata": {
        "id": "6WJgG0duU7qg"
      }
    },
    {
      "cell_type": "code",
      "source": [
        "# Plot the actual vs. predicted values\n",
        "plt.scatter(y_test, y_pred)\n",
        "plt.xlabel('Actual Values')\n",
        "plt.ylabel('Predicted Values')\n",
        "plt.title('Actual vs. Predicted Values')\n",
        "plt.show()"
      ],
      "metadata": {
        "colab": {
          "base_uri": "https://localhost:8080/",
          "height": 472
        },
        "id": "5QfLtwL_Txxj",
        "outputId": "3179ea84-4da7-47f4-e9bf-9abb848a1f97"
      },
      "execution_count": null,
      "outputs": [
        {
          "output_type": "display_data",
          "data": {
            "text/plain": [
              "<Figure size 640x480 with 1 Axes>"
            ],
            "image/png": "[encoded data removed]"
          },
          "metadata": {}
        }
      ]
    }
  ]
}